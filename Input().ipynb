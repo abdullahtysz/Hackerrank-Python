{
  "nbformat": 4,
  "nbformat_minor": 0,
  "metadata": {
    "colab": {
      "name": "Input()",
      "provenance": [],
      "authorship_tag": "ABX9TyP/FMQ0gxpYyo2IZWwlK4G5"
    },
    "kernelspec": {
      "name": "python3",
      "display_name": "Python 3"
    },
    "language_info": {
      "name": "python"
    }
  },
  "cells": [
    {
      "cell_type": "code",
      "metadata": {
        "colab": {
          "base_uri": "https://localhost:8080/"
        },
        "id": "4SXz5Fp1nVfP",
        "outputId": "9f2383c3-3d63-423a-a938-63d00d119a20"
      },
      "source": [
        "x = 1 \n",
        "k = 4\n",
        "P = ((x**3) + (x**2) + (x + 1))\n",
        "if k == P:    \n",
        "    \n",
        "    print(bool(P))\n",
        "else :\n",
        "  print(False)"
      ],
      "execution_count": 8,
      "outputs": [
        {
          "output_type": "stream",
          "text": [
            "True\n"
          ],
          "name": "stdout"
        }
      ]
    }
  ]
}
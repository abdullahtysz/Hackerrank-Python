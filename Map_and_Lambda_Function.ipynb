{
  "nbformat": 4,
  "nbformat_minor": 0,
  "metadata": {
    "colab": {
      "name": "Map and Lambda Function",
      "provenance": [],
      "authorship_tag": "ABX9TyMIwdCfz6aU1JSYstditHrk"
    },
    "kernelspec": {
      "name": "python3",
      "display_name": "Python 3"
    },
    "language_info": {
      "name": "python"
    }
  },
  "cells": [
    {
      "cell_type": "code",
      "metadata": {
        "id": "Wq9apHZcLBt8"
      },
      "source": [
        "cube = lambda x: x**3 # complete the lambda function \n",
        "#fn =  (fn-1)+(fn-2) \n",
        "def fibonacci(n):\n",
        " \n",
        "\n",
        "    l=[]\n",
        "    for i in range(n):\n",
        "        if i==0 or i==1:  # [0,1]\n",
        "            l.append(i)\n",
        "        else:   # [1,2,3,5,...]\n",
        "            l.append(l[i-1]+l[i-2])\n",
        "    return l\n",
        "\n",
        "\n",
        "\n",
        "if __name__ == '__main__':\n",
        "    n = int(input())\n",
        "    print(list(map(cube, fibonacci(n))))"
      ],
      "execution_count": 1,
      "outputs": []
    }
  ]
}
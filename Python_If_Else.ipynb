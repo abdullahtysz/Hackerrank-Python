{
  "nbformat": 4,
  "nbformat_minor": 0,
  "metadata": {
    "colab": {
      "name": "Python If-Else",
      "provenance": [],
      "authorship_tag": "ABX9TyMmP+U6ugAqgBzToyMRvZRU"
    },
    "kernelspec": {
      "name": "python3",
      "display_name": "Python 3"
    },
    "language_info": {
      "name": "python"
    }
  },
  "cells": [
    {
      "cell_type": "code",
      "metadata": {
        "colab": {
          "base_uri": "https://localhost:8080/"
        },
        "id": "pMwa5wv-ROK8",
        "outputId": "e9564406-1a8a-4987-fa98-9655a0dfe535"
      },
      "source": [
        "N = int(input())\n",
        "\n",
        "if N % 2 != 0:\n",
        "    print(\"Weird\")\n",
        "else:\n",
        "    if N >= 2 and N <= 5:\n",
        "        print(\"Not Weird\")\n",
        "    elif N >= 6 and N <= 20:\n",
        "        print(\"Weird\")\n",
        "    elif N > 20:\n",
        "        print(\"Not Weird\")"
      ],
      "execution_count": 8,
      "outputs": [
        {
          "output_type": "stream",
          "text": [
            "20\n",
            "Weird\n"
          ],
          "name": "stdout"
        }
      ]
    },
    {
      "cell_type": "code",
      "metadata": {
        "id": "7bU16jovROn4"
      },
      "source": [
        ""
      ],
      "execution_count": 6,
      "outputs": []
    },
    {
      "cell_type": "code",
      "metadata": {
        "id": "ibLfb2_KROqU"
      },
      "source": [
        ""
      ],
      "execution_count": null,
      "outputs": []
    },
    {
      "cell_type": "code",
      "metadata": {
        "id": "vQRTfDWIROsW"
      },
      "source": [
        ""
      ],
      "execution_count": null,
      "outputs": []
    },
    {
      "cell_type": "code",
      "metadata": {
        "id": "A4n7275uROv7"
      },
      "source": [
        ""
      ],
      "execution_count": null,
      "outputs": []
    },
    {
      "cell_type": "code",
      "metadata": {
        "id": "XS3JNcj-ROyO"
      },
      "source": [
        ""
      ],
      "execution_count": null,
      "outputs": []
    },
    {
      "cell_type": "code",
      "metadata": {
        "id": "sjy5AecqRO08"
      },
      "source": [
        ""
      ],
      "execution_count": null,
      "outputs": []
    }
  ]
}
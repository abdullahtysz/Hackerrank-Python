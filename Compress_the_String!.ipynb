{
  "nbformat": 4,
  "nbformat_minor": 0,
  "metadata": {
    "colab": {
      "name": "Compress the String!",
      "provenance": [],
      "authorship_tag": "ABX9TyPy5aWRFYF9wxBlo7C7u1UB"
    },
    "kernelspec": {
      "name": "python3",
      "display_name": "Python 3"
    },
    "language_info": {
      "name": "python"
    }
  },
  "cells": [
    {
      "cell_type": "code",
      "metadata": {
        "id": "Wq9apHZcLBt8"
      },
      "source": [
        "import itertools as itt"
      ],
      "execution_count": 42,
      "outputs": []
    },
    {
      "cell_type": "code",
      "metadata": {
        "colab": {
          "base_uri": "https://localhost:8080/"
        },
        "id": "C0JOc3GvwFiY",
        "outputId": "55ec05c3-6a65-4d34-84ce-f22d248ca9a6"
      },
      "source": [
        "from itertools import *\n",
        "\n",
        "io = input()\n",
        "for i,j in groupby(map(int,list(io))):\n",
        "    print(tuple([len(list(j)), i]) ,end = \" \")\n"
      ],
      "execution_count": 53,
      "outputs": [
        {
          "output_type": "stream",
          "name": "stdout",
          "text": [
            "1520\n",
            "(1, 1) (1, 5) (1, 2) (1, 0) "
          ]
        }
      ]
    },
    {
      "cell_type": "code",
      "metadata": {
        "id": "O1nWeeX-ySFQ"
      },
      "source": [
        ""
      ],
      "execution_count": null,
      "outputs": []
    }
  ]
}
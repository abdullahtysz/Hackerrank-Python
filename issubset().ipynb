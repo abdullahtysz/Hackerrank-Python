{
  "nbformat": 4,
  "nbformat_minor": 0,
  "metadata": {
    "colab": {
      "name": "issubset()",
      "provenance": [],
      "authorship_tag": "ABX9TyNUUImq3iMwy2wQgrcVwS4R"
    },
    "kernelspec": {
      "name": "python3",
      "display_name": "Python 3"
    },
    "language_info": {
      "name": "python"
    }
  },
  "cells": [
    {
      "cell_type": "code",
      "metadata": {
        "colab": {
          "base_uri": "https://localhost:8080/"
        },
        "id": "d216Jj5xH9Ft",
        "outputId": "6dbc9723-b71c-4fb6-b6ea-d5679247d646"
      },
      "source": [
        "A = {1, 2, 3}\n",
        "B = {1, 2, 3, 4, 5}\n",
        "C = {1, 2, 4, 5}\n",
        "\n",
        "# Returns True\n",
        "print(A.issubset(B))\n",
        "\n",
        "# Returns False\n",
        "# B is not subset of A\n",
        "print(B.issubset(A))\n",
        "\n",
        "# Returns False\n",
        "print(A.issubset(C))\n",
        "\n"
      ],
      "execution_count": 1,
      "outputs": [
        {
          "output_type": "stream",
          "text": [
            "True\n",
            "False\n",
            "False\n"
          ],
          "name": "stdout"
        }
      ]
    }
  ]
}
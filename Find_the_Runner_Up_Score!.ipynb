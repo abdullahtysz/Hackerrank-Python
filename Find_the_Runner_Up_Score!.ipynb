{
  "nbformat": 4,
  "nbformat_minor": 0,
  "metadata": {
    "colab": {
      "name": "Find the Runner-Up Score!",
      "provenance": [],
      "authorship_tag": "ABX9TyPIXOKg99Jf7nJllqAqmnAk"
    },
    "kernelspec": {
      "name": "python3",
      "display_name": "Python 3"
    },
    "language_info": {
      "name": "python"
    }
  },
  "cells": [
    {
      "cell_type": "code",
      "metadata": {
        "colab": {
          "base_uri": "https://localhost:8080/"
        },
        "id": "hTvHhhbCTmLX",
        "outputId": "2bedc15c-ab84-4bc0-9893-60884766455a"
      },
      "source": [
        "score = [-10,25,44,44,44,89,-47,-44,0,10]\n",
        "new_list=sorted(score)\n",
        "a=[]\n",
        "for i in new_list :\n",
        "  if i not in a:\n",
        "    a.append(i)\n",
        "print(a[-2])"
      ],
      "execution_count": 43,
      "outputs": [
        {
          "output_type": "stream",
          "text": [
            "44\n"
          ],
          "name": "stdout"
        }
      ]
    }
  ]
}
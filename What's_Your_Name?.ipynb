{
  "nbformat": 4,
  "nbformat_minor": 0,
  "metadata": {
    "colab": {
      "name": "What's Your Name?",
      "provenance": [],
      "collapsed_sections": [],
      "authorship_tag": "ABX9TyOabixoQsVYgExjD3bnu010"
    },
    "kernelspec": {
      "name": "python3",
      "display_name": "Python 3"
    },
    "language_info": {
      "name": "python"
    }
  },
  "cells": [
    {
      "cell_type": "code",
      "metadata": {
        "id": "oGIG5wp9FF2c"
      },
      "source": [
        "def print_full_name(a, b):\n",
        "    print(f\"Hello {a} {b}! You just delved into python.\")\n",
        "\n",
        "\n",
        "\n",
        " "
      ],
      "execution_count": 9,
      "outputs": []
    }
  ]
}
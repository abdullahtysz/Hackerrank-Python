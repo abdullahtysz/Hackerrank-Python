{
  "nbformat": 4,
  "nbformat_minor": 0,
  "metadata": {
    "colab": {
      "name": "Validating Email Addresses With a Filter.ipynb",
      "provenance": [],
      "authorship_tag": "ABX9TyPkDe9T/IFXGQ9B/kax6bAb"
    },
    "kernelspec": {
      "name": "python3",
      "display_name": "Python 3"
    },
    "language_info": {
      "name": "python"
    }
  },
  "cells": [
    {
      "cell_type": "code",
      "metadata": {
        "id": "Wq9apHZcLBt8"
      },
      "source": [
        "def fun(e):\n",
        "    try:\n",
        "        hepsi = e.lower().split('@')\n",
        "        ad = hepsi[0]\n",
        "        sirket_url = hepsi[1].split('.')\n",
        "        sirket = sirket_url[0]\n",
        "        url = sirket_url[1]\n",
        "    except:\n",
        "        False\n",
        "    if len(hepsi) == 2 and len(sirket_url) == 2 and len(url) <= 3 and ad.replace('-','').replace('_','').isalnum() and sirket.isalnum():\n",
        "        return True\n",
        "    else:\n",
        "        return False"
      ],
      "execution_count": null,
      "outputs": []
    }
  ]
}
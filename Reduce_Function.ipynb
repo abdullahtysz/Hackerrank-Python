{
  "nbformat": 4,
  "nbformat_minor": 0,
  "metadata": {
    "colab": {
      "name": "Reduce Function",
      "provenance": [],
      "authorship_tag": "ABX9TyOCBoeOs744s6AkWVzCBJcI"
    },
    "kernelspec": {
      "name": "python3",
      "display_name": "Python 3"
    },
    "language_info": {
      "name": "python"
    }
  },
  "cells": [
    {
      "cell_type": "code",
      "metadata": {
        "id": "m8JjgopmQ7GM"
      },
      "source": [
        "from fractions import Fraction\n",
        "from functools import reduce"
      ],
      "execution_count": 3,
      "outputs": []
    },
    {
      "cell_type": "code",
      "metadata": {
        "colab": {
          "base_uri": "https://localhost:8080/"
        },
        "id": "pxEvQEzdVF5X",
        "outputId": "d582776a-b2cf-4180-cb95-201905a2575b"
      },
      "source": [
        "reduce(lambda x, y : x + y, [1,2,3], 100) # sonuna eklediğim sayı ile toplar "
      ],
      "execution_count": 4,
      "outputs": [
        {
          "output_type": "execute_result",
          "data": {
            "text/plain": [
              "106"
            ]
          },
          "metadata": {},
          "execution_count": 4
        }
      ]
    },
    {
      "cell_type": "code",
      "metadata": {
        "colab": {
          "base_uri": "https://localhost:8080/"
        },
        "id": "G6OmBYV9VHn9",
        "outputId": "b6b24a0e-9aea-43f8-d629-0b179416626a"
      },
      "source": [
        "from fractions import gcd # ortak böleni bulur\n",
        "reduce(gcd, [2,4,8], 3);"
      ],
      "execution_count": null,
      "outputs": [
        {
          "output_type": "stream",
          "name": "stderr",
          "text": [
            "/usr/local/lib/python3.7/dist-packages/ipykernel_launcher.py:2: DeprecationWarning: fractions.gcd() is deprecated. Use math.gcd() instead.\n",
            "  \n"
          ]
        }
      ]
    },
    {
      "cell_type": "code",
      "metadata": {
        "id": "aSBL6tNmVbf-",
        "colab": {
          "base_uri": "https://localhost:8080/"
        },
        "outputId": "312ce5a7-7476-49bf-b0e1-de69c3b75bc3"
      },
      "source": [
        "from fractions import Fraction\n",
        "from functools import reduce\n",
        "from fractions import gcd\n",
        "\n",
        "def product(fracs):\n",
        "    t = reduce(lambda x, y : x * y, fracs)\n",
        "    return t.numerator, t.denominator # pay ve paydayı ayırır\n",
        "\n",
        "    \n",
        "    \n",
        "if __name__ == '__main__':\n",
        "    fracs = []\n",
        "    for _ in range(int(input())):\n",
        "        fracs.append(Fraction(*map(int, input().split())))\n",
        "    result = product(fracs)\n",
        "    print(*result)"
      ],
      "execution_count": 9,
      "outputs": [
        {
          "output_type": "stream",
          "name": "stdout",
          "text": [
            "5\n",
            "6\n",
            "5\n",
            "63\n",
            "56\n",
            "599\n",
            "63398160 1\n"
          ]
        }
      ]
    },
    {
      "cell_type": "code",
      "metadata": {
        "id": "6jrhJEGGaLTF"
      },
      "source": [
        ""
      ],
      "execution_count": null,
      "outputs": []
    }
  ]
}